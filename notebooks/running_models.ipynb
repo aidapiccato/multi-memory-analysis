{
 "cells": [
  {
   "cell_type": "code",
   "execution_count": 1,
   "metadata": {},
   "outputs": [],
   "source": [
    "import sys\n",
    "sys.path.append('../')\n",
    "\n",
    "import numpy as np\n",
    "import pandas as pd\n",
    "import seaborn as sns\n",
    "import matplotlib.pyplot as plt\n",
    "\n",
    "from utils import modeling "
   ]
  },
  {
   "cell_type": "code",
   "execution_count": 2,
   "metadata": {},
   "outputs": [
    {
     "name": "stdout",
     "output_type": "stream",
     "text": [
      "[0]\n",
      "[0, 0]\n",
      "([0, 0], 0.0)\n",
      "[0]\n",
      "[0, 0]\n",
      "([0, 0], 0.0)\n"
     ]
    }
   ],
   "source": [
    "ground_truth = [0,2]\n",
    "print(modeling.accuracy(ground_truth,modeling.decision(modeling.sample(0,1,2),0.5)))\n",
    "print(modeling.accuracy(ground_truth,modeling.decision(modeling.sample(1,1,2),0.5)))"
   ]
  },
  {
   "cell_type": "code",
   "execution_count": 3,
   "metadata": {},
   "outputs": [
    {
     "name": "stdout",
     "output_type": "stream",
     "text": [
      "[0]\n",
      "[0, 0]\n",
      "([0, 0], 0.0)\n",
      "[0]\n",
      "[0, 0]\n",
      "([0, 0], 0.0)\n"
     ]
    }
   ],
   "source": [
    "ground_truth = [2,1]\n",
    "print(modeling.accuracy(ground_truth,modeling.decision(modeling.sample(0,1,2),0.4)))\n",
    "print(modeling.accuracy(ground_truth,modeling.decision(modeling.sample(0.5,1,2),0.4)))"
   ]
  }
 ],
 "metadata": {
  "kernelspec": {
   "display_name": "multi-memory-env",
   "language": "python",
   "name": "python3"
  },
  "language_info": {
   "codemirror_mode": {
    "name": "ipython",
    "version": 3
   },
   "file_extension": ".py",
   "mimetype": "text/x-python",
   "name": "python",
   "nbconvert_exporter": "python",
   "pygments_lexer": "ipython3",
   "version": "3.11.3"
  },
  "orig_nbformat": 4
 },
 "nbformat": 4,
 "nbformat_minor": 2
}
