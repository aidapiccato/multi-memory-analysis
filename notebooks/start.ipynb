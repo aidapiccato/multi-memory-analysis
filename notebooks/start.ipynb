{
 "cells": [
  {
   "cell_type": "code",
   "execution_count": 6,
   "metadata": {},
   "outputs": [
    {
     "name": "stdout",
     "output_type": "stream",
     "text": [
      "The autoreload extension is already loaded. To reload it, use:\n",
      "  %reload_ext autoreload\n"
     ]
    }
   ],
   "source": [
    "%load_ext autoreload\n",
    "%autoreload 2"
   ]
  },
  {
   "cell_type": "code",
   "execution_count": 7,
   "metadata": {},
   "outputs": [],
   "source": [
    "import sys\n",
    "sys.path.append('../')\n",
    "\n",
    "import numpy as np\n",
    "import pandas as pd\n",
    "\n",
    "from utils import get_trial_dataframe\n",
    "from utils import get_trial_paths\n"
   ]
  },
  {
   "cell_type": "code",
   "execution_count": 53,
   "metadata": {},
   "outputs": [
    {
     "name": "stdout",
     "output_type": "stream",
     "text": [
      "Number of trials:  4\n"
     ]
    }
   ],
   "source": [
    "# Replace with the path to the logs directory in multi-memory-task\n",
    "logs_path = '/Users/aidapiccato/multi-memory-task/logs' \n",
    "\n",
    "# Replace this with the name of the dataset directories\n",
    "datasets = ['2023_06_12_13_05_37']\n",
    "\n",
    "trial_paths = get_trial_paths.get_trial_paths(logs_path=logs_path, datasets=datasets)\n",
    "df = get_trial_dataframe.get_trial_dataframe(trial_paths=trial_paths)\n"
   ]
  },
  {
   "cell_type": "code",
   "execution_count": 54,
   "metadata": {},
   "outputs": [
    {
     "data": {
      "text/html": [
       "<div>\n",
       "<style scoped>\n",
       "    .dataframe tbody tr th:only-of-type {\n",
       "        vertical-align: middle;\n",
       "    }\n",
       "\n",
       "    .dataframe tbody tr th {\n",
       "        vertical-align: top;\n",
       "    }\n",
       "\n",
       "    .dataframe thead th {\n",
       "        text-align: right;\n",
       "    }\n",
       "</style>\n",
       "<table border=\"1\" class=\"dataframe\">\n",
       "  <thead>\n",
       "    <tr style=\"text-align: right;\">\n",
       "      <th></th>\n",
       "      <th>trial_num</th>\n",
       "      <th>time</th>\n",
       "      <th>object_0_x</th>\n",
       "      <th>object_0_y</th>\n",
       "      <th>object_0_id</th>\n",
       "      <th>object_0_theta</th>\n",
       "      <th>object_1_x</th>\n",
       "      <th>object_1_y</th>\n",
       "      <th>object_1_id</th>\n",
       "      <th>object_1_theta</th>\n",
       "      <th>...</th>\n",
       "      <th>target_theta</th>\n",
       "      <th>num_object</th>\n",
       "      <th>response_object_ind</th>\n",
       "      <th>response_x</th>\n",
       "      <th>response_id</th>\n",
       "      <th>response_theta</th>\n",
       "      <th>correct</th>\n",
       "      <th>response_y</th>\n",
       "      <th>visible_s</th>\n",
       "      <th>delay_s</th>\n",
       "    </tr>\n",
       "  </thead>\n",
       "  <tbody>\n",
       "    <tr>\n",
       "      <th>0</th>\n",
       "      <td>0</td>\n",
       "      <td>1.686590e+09</td>\n",
       "      <td>0.846499</td>\n",
       "      <td>0.549382</td>\n",
       "      <td>f</td>\n",
       "      <td>1.429233</td>\n",
       "      <td>0.153063</td>\n",
       "      <td>0.546206</td>\n",
       "      <td>a</td>\n",
       "      <td>-1.438392</td>\n",
       "      <td>...</td>\n",
       "      <td>1.429233</td>\n",
       "      <td>6</td>\n",
       "      <td>0.0</td>\n",
       "      <td>0.822796</td>\n",
       "      <td>f</td>\n",
       "      <td>1.423057</td>\n",
       "      <td>True</td>\n",
       "      <td>0.548040</td>\n",
       "      <td>1.532937</td>\n",
       "      <td>1.016625</td>\n",
       "    </tr>\n",
       "    <tr>\n",
       "      <th>2</th>\n",
       "      <td>2</td>\n",
       "      <td>1.686590e+09</td>\n",
       "      <td>0.242458</td>\n",
       "      <td>0.737007</td>\n",
       "      <td>a</td>\n",
       "      <td>-0.826897</td>\n",
       "      <td>0.825982</td>\n",
       "      <td>0.627419</td>\n",
       "      <td>d</td>\n",
       "      <td>1.198179</td>\n",
       "      <td>...</td>\n",
       "      <td>-0.826897</td>\n",
       "      <td>3</td>\n",
       "      <td>0.0</td>\n",
       "      <td>0.218764</td>\n",
       "      <td>a</td>\n",
       "      <td>-0.879590</td>\n",
       "      <td>True</td>\n",
       "      <td>0.732685</td>\n",
       "      <td>2.001913</td>\n",
       "      <td>0.497174</td>\n",
       "    </tr>\n",
       "    <tr>\n",
       "      <th>3</th>\n",
       "      <td>3</td>\n",
       "      <td>1.686590e+09</td>\n",
       "      <td>0.773440</td>\n",
       "      <td>0.718473</td>\n",
       "      <td>a</td>\n",
       "      <td>0.896678</td>\n",
       "      <td>0.445153</td>\n",
       "      <td>0.845676</td>\n",
       "      <td>d</td>\n",
       "      <td>-0.157353</td>\n",
       "      <td>...</td>\n",
       "      <td>0.896678</td>\n",
       "      <td>5</td>\n",
       "      <td>0.0</td>\n",
       "      <td>0.723078</td>\n",
       "      <td>a</td>\n",
       "      <td>0.871692</td>\n",
       "      <td>True</td>\n",
       "      <td>0.687554</td>\n",
       "      <td>0.501101</td>\n",
       "      <td>1.498854</td>\n",
       "    </tr>\n",
       "  </tbody>\n",
       "</table>\n",
       "<p>3 rows × 39 columns</p>\n",
       "</div>"
      ],
      "text/plain": [
       "   trial_num          time  object_0_x  object_0_y object_0_id  \\\n",
       "0          0  1.686590e+09    0.846499    0.549382           f   \n",
       "2          2  1.686590e+09    0.242458    0.737007           a   \n",
       "3          3  1.686590e+09    0.773440    0.718473           a   \n",
       "\n",
       "   object_0_theta  object_1_x  object_1_y object_1_id  object_1_theta  ...  \\\n",
       "0        1.429233    0.153063    0.546206           a       -1.438392  ...   \n",
       "2       -0.826897    0.825982    0.627419           d        1.198179  ...   \n",
       "3        0.896678    0.445153    0.845676           d       -0.157353  ...   \n",
       "\n",
       "   target_theta  num_object response_object_ind  response_x  response_id  \\\n",
       "0      1.429233           6                 0.0    0.822796            f   \n",
       "2     -0.826897           3                 0.0    0.218764            a   \n",
       "3      0.896678           5                 0.0    0.723078            a   \n",
       "\n",
       "   response_theta correct  response_y  visible_s   delay_s  \n",
       "0        1.423057    True    0.548040   1.532937  1.016625  \n",
       "2       -0.879590    True    0.732685   2.001913  0.497174  \n",
       "3        0.871692    True    0.687554   0.501101  1.498854  \n",
       "\n",
       "[3 rows x 39 columns]"
      ]
     },
     "execution_count": 54,
     "metadata": {},
     "output_type": "execute_result"
    }
   ],
   "source": [
    "df"
   ]
  },
  {
   "cell_type": "code",
   "execution_count": null,
   "metadata": {},
   "outputs": [],
   "source": []
  }
 ],
 "metadata": {
  "kernelspec": {
   "display_name": "py311",
   "language": "python",
   "name": "python3"
  },
  "language_info": {
   "codemirror_mode": {
    "name": "ipython",
    "version": 3
   },
   "file_extension": ".py",
   "mimetype": "text/x-python",
   "name": "python",
   "nbconvert_exporter": "python",
   "pygments_lexer": "ipython3",
   "version": "3.11.3"
  },
  "orig_nbformat": 4
 },
 "nbformat": 4,
 "nbformat_minor": 2
}
